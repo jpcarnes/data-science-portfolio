{
 "cells": [
  {
   "cell_type": "markdown",
   "metadata": {},
   "source": [
    "<h1>Sports based intro to pandas, numpy, and matplotlib</h1>"
   ]
  },
  {
   "cell_type": "markdown",
   "metadata": {},
   "source": [
    "This is an introduction to using pandas, numpy, and matplotlib/seaborn. Over the past couple months I've taken a deeper dive into the world of data science with a focus on programmatic based data wrangling and visualizations.\n",
    "     \n",
    "I chose to use a dataset that is used to generate visuals in the G.O.A.T dashboard on <b>www.lebronvsjordan.org</b>. The dataset is comprised of the top 5 teammates on either Jordan and Lebron's team for the first 14 seasons. <i>(15th season coming soon!)</i> \n",
    "\n",
    "Click here to download the csv file for this tutorial.\n",
    "\n",
    "The goal of this dataset investigation is to see who had better teammates each season based on 3 different graphs: points per game (ppg), rebonds per game (rpg), and assists per game (apg).\n",
    "\n",
    "Files for this tutuorial can be found at: <b>https://github.com/jpcarnes/data-science-portfolio</b>"
   ]
  },
  {
   "cell_type": "markdown",
   "metadata": {},
   "source": [
    "<h3>Setup</h3>"
   ]
  },
  {
   "cell_type": "code",
   "execution_count": 21,
   "metadata": {},
   "outputs": [],
   "source": [
    "%matplotlib inline\n",
    "\n",
    "import numpy as np\n",
    "import pandas as pd\n",
    "import matplotlib.pyplot as plt\n",
    "import seaborn as sns\n",
    "\n",
    "\n",
    "csfont = {'fontname':'Dejavu Sans'}\n",
    "titlefont = {'size': '14'}"
   ]
  },
  {
   "cell_type": "markdown",
   "metadata": {},
   "source": [
    "<h3>Read in .csv files</h3>"
   ]
  },
  {
   "cell_type": "markdown",
   "metadata": {},
   "source": [
    "<li>df or 'dataframe' is the common structure creaed in pandas and can be thought of as table</li>\n",
    "<li>In this exercise we will create a dataframe called <b>dfTeam</b> that reads in a csv file of LeBron and Jordan's teammates</li>"
   ]
  },
  {
   "cell_type": "code",
   "execution_count": 22,
   "metadata": {},
   "outputs": [],
   "source": [
    "dfTeam = pd.read_csv('L_vs_M_Teammates.csv')"
   ]
  },
  {
   "cell_type": "markdown",
   "metadata": {},
   "source": [
    "<h2>Setup Cont.</h2>\n",
    "<li><b>np.infinite</b> is used to clean the dataset of any rows that are blank and show NaN</li>\n",
    "<li><b>dfTeam.columns</b> is a quick pandas command that shows all column names in a dataframe</li>\n",
    "<li><b>dfTeam.shape</b> is a quick pandas command used to get the <b>rows x columns</b> in a dataset and <b>dfTeam.head()</b> shows the first 5 rows of data</li>"
   ]
  },
  {
   "cell_type": "code",
   "execution_count": 23,
   "metadata": {},
   "outputs": [],
   "source": [
    "dfTeam = dfTeam[np.isfinite(dfTeam['season'])]"
   ]
  },
  {
   "cell_type": "code",
   "execution_count": 24,
   "metadata": {},
   "outputs": [
    {
     "data": {
      "text/plain": [
       "Index(['teammate', 'years_season', 'season', 'm_or_l', 'position',\n",
       "       'games_played_per_season', 'rpg_season', 'apg_season', 'spg_season',\n",
       "       'bpg_season', 'turnovers_season', 'ppg_season', '3pt_attempts_per_game',\n",
       "       '3pt_percentage_season', 'team_season', 'championship_season',\n",
       "       'playoffs_reached', 'playoffs_team_lost_to_won',\n",
       "       'eliminating_round_series', 'record', 'opponent_ppg', 'team_ppg'],\n",
       "      dtype='object')"
      ]
     },
     "execution_count": 24,
     "metadata": {},
     "output_type": "execute_result"
    }
   ],
   "source": [
    "dfTeam.columns"
   ]
  },
  {
   "cell_type": "code",
   "execution_count": 25,
   "metadata": {},
   "outputs": [
    {
     "data": {
      "text/plain": [
       "(140, 22)"
      ]
     },
     "execution_count": 25,
     "metadata": {},
     "output_type": "execute_result"
    }
   ],
   "source": [
    "dfTeam.shape"
   ]
  },
  {
   "cell_type": "code",
   "execution_count": 26,
   "metadata": {},
   "outputs": [
    {
     "data": {
      "text/html": [
       "<div>\n",
       "<style scoped>\n",
       "    .dataframe tbody tr th:only-of-type {\n",
       "        vertical-align: middle;\n",
       "    }\n",
       "\n",
       "    .dataframe tbody tr th {\n",
       "        vertical-align: top;\n",
       "    }\n",
       "\n",
       "    .dataframe thead th {\n",
       "        text-align: right;\n",
       "    }\n",
       "</style>\n",
       "<table border=\"1\" class=\"dataframe\">\n",
       "  <thead>\n",
       "    <tr style=\"text-align: right;\">\n",
       "      <th></th>\n",
       "      <th>teammate</th>\n",
       "      <th>years_season</th>\n",
       "      <th>season</th>\n",
       "      <th>m_or_l</th>\n",
       "      <th>position</th>\n",
       "      <th>games_played_per_season</th>\n",
       "      <th>rpg_season</th>\n",
       "      <th>apg_season</th>\n",
       "      <th>spg_season</th>\n",
       "      <th>bpg_season</th>\n",
       "      <th>...</th>\n",
       "      <th>3pt_attempts_per_game</th>\n",
       "      <th>3pt_percentage_season</th>\n",
       "      <th>team_season</th>\n",
       "      <th>championship_season</th>\n",
       "      <th>playoffs_reached</th>\n",
       "      <th>playoffs_team_lost_to_won</th>\n",
       "      <th>eliminating_round_series</th>\n",
       "      <th>record</th>\n",
       "      <th>opponent_ppg</th>\n",
       "      <th>team_ppg</th>\n",
       "    </tr>\n",
       "  </thead>\n",
       "  <tbody>\n",
       "    <tr>\n",
       "      <th>0</th>\n",
       "      <td>Carlos Boozer</td>\n",
       "      <td>2003-2004</td>\n",
       "      <td>1.0</td>\n",
       "      <td>LeBron</td>\n",
       "      <td>NaN</td>\n",
       "      <td>NaN</td>\n",
       "      <td>11.4</td>\n",
       "      <td>2.0</td>\n",
       "      <td>1.0</td>\n",
       "      <td>0.7</td>\n",
       "      <td>...</td>\n",
       "      <td>NaN</td>\n",
       "      <td>0.167</td>\n",
       "      <td>Cavaliers</td>\n",
       "      <td>No</td>\n",
       "      <td>Missed Playoffs</td>\n",
       "      <td>NaN</td>\n",
       "      <td>NaN</td>\n",
       "      <td>35-47</td>\n",
       "      <td>95.5</td>\n",
       "      <td>92.9</td>\n",
       "    </tr>\n",
       "    <tr>\n",
       "      <th>1</th>\n",
       "      <td>Zydrunas Ilgauskas</td>\n",
       "      <td>2003-2004</td>\n",
       "      <td>1.0</td>\n",
       "      <td>LeBron</td>\n",
       "      <td>NaN</td>\n",
       "      <td>NaN</td>\n",
       "      <td>8.1</td>\n",
       "      <td>1.3</td>\n",
       "      <td>0.5</td>\n",
       "      <td>2.5</td>\n",
       "      <td>...</td>\n",
       "      <td>NaN</td>\n",
       "      <td>0.286</td>\n",
       "      <td>Cavaliers</td>\n",
       "      <td>No</td>\n",
       "      <td>Missed Playoffs</td>\n",
       "      <td>NaN</td>\n",
       "      <td>NaN</td>\n",
       "      <td>35-47</td>\n",
       "      <td>95.5</td>\n",
       "      <td>92.9</td>\n",
       "    </tr>\n",
       "    <tr>\n",
       "      <th>2</th>\n",
       "      <td>Kevin Ollie</td>\n",
       "      <td>2003-2004</td>\n",
       "      <td>1.0</td>\n",
       "      <td>LeBron</td>\n",
       "      <td>NaN</td>\n",
       "      <td>NaN</td>\n",
       "      <td>2.1</td>\n",
       "      <td>2.9</td>\n",
       "      <td>0.6</td>\n",
       "      <td>0.1</td>\n",
       "      <td>...</td>\n",
       "      <td>NaN</td>\n",
       "      <td>0.444</td>\n",
       "      <td>Cavaliers</td>\n",
       "      <td>No</td>\n",
       "      <td>Missed Playoffs</td>\n",
       "      <td>NaN</td>\n",
       "      <td>NaN</td>\n",
       "      <td>35-47</td>\n",
       "      <td>95.5</td>\n",
       "      <td>92.9</td>\n",
       "    </tr>\n",
       "    <tr>\n",
       "      <th>3</th>\n",
       "      <td>Jeff McInnis</td>\n",
       "      <td>2003-2004</td>\n",
       "      <td>1.0</td>\n",
       "      <td>LeBron</td>\n",
       "      <td>NaN</td>\n",
       "      <td>NaN</td>\n",
       "      <td>2.6</td>\n",
       "      <td>7.5</td>\n",
       "      <td>1.2</td>\n",
       "      <td>0.1</td>\n",
       "      <td>...</td>\n",
       "      <td>NaN</td>\n",
       "      <td>0.388</td>\n",
       "      <td>Cavaliers</td>\n",
       "      <td>No</td>\n",
       "      <td>Missed Playoffs</td>\n",
       "      <td>NaN</td>\n",
       "      <td>NaN</td>\n",
       "      <td>35-47</td>\n",
       "      <td>95.5</td>\n",
       "      <td>92.9</td>\n",
       "    </tr>\n",
       "    <tr>\n",
       "      <th>4</th>\n",
       "      <td>Tony Battie</td>\n",
       "      <td>2003-2004</td>\n",
       "      <td>1.0</td>\n",
       "      <td>LeBron</td>\n",
       "      <td>NaN</td>\n",
       "      <td>NaN</td>\n",
       "      <td>4.8</td>\n",
       "      <td>0.7</td>\n",
       "      <td>0.4</td>\n",
       "      <td>0.9</td>\n",
       "      <td>...</td>\n",
       "      <td>NaN</td>\n",
       "      <td>0.125</td>\n",
       "      <td>Cavaliers</td>\n",
       "      <td>No</td>\n",
       "      <td>Missed Playoffs</td>\n",
       "      <td>NaN</td>\n",
       "      <td>NaN</td>\n",
       "      <td>35-47</td>\n",
       "      <td>95.5</td>\n",
       "      <td>92.9</td>\n",
       "    </tr>\n",
       "  </tbody>\n",
       "</table>\n",
       "<p>5 rows × 22 columns</p>\n",
       "</div>"
      ],
      "text/plain": [
       "             teammate years_season  season  m_or_l position  \\\n",
       "0       Carlos Boozer    2003-2004     1.0  LeBron      NaN   \n",
       "1  Zydrunas Ilgauskas    2003-2004     1.0  LeBron      NaN   \n",
       "2         Kevin Ollie    2003-2004     1.0  LeBron      NaN   \n",
       "3        Jeff McInnis    2003-2004     1.0  LeBron      NaN   \n",
       "4         Tony Battie    2003-2004     1.0  LeBron      NaN   \n",
       "\n",
       "   games_played_per_season  rpg_season  apg_season  spg_season  bpg_season  \\\n",
       "0                      NaN        11.4         2.0         1.0         0.7   \n",
       "1                      NaN         8.1         1.3         0.5         2.5   \n",
       "2                      NaN         2.1         2.9         0.6         0.1   \n",
       "3                      NaN         2.6         7.5         1.2         0.1   \n",
       "4                      NaN         4.8         0.7         0.4         0.9   \n",
       "\n",
       "    ...     3pt_attempts_per_game  3pt_percentage_season  team_season  \\\n",
       "0   ...                       NaN                  0.167    Cavaliers   \n",
       "1   ...                       NaN                  0.286    Cavaliers   \n",
       "2   ...                       NaN                  0.444    Cavaliers   \n",
       "3   ...                       NaN                  0.388    Cavaliers   \n",
       "4   ...                       NaN                  0.125    Cavaliers   \n",
       "\n",
       "   championship_season playoffs_reached playoffs_team_lost_to_won  \\\n",
       "0                   No  Missed Playoffs                       NaN   \n",
       "1                   No  Missed Playoffs                       NaN   \n",
       "2                   No  Missed Playoffs                       NaN   \n",
       "3                   No  Missed Playoffs                       NaN   \n",
       "4                   No  Missed Playoffs                       NaN   \n",
       "\n",
       "  eliminating_round_series record opponent_ppg team_ppg  \n",
       "0                      NaN  35-47         95.5     92.9  \n",
       "1                      NaN  35-47         95.5     92.9  \n",
       "2                      NaN  35-47         95.5     92.9  \n",
       "3                      NaN  35-47         95.5     92.9  \n",
       "4                      NaN  35-47         95.5     92.9  \n",
       "\n",
       "[5 rows x 22 columns]"
      ]
     },
     "execution_count": 26,
     "metadata": {},
     "output_type": "execute_result"
    }
   ],
   "source": [
    "dfTeam.head()"
   ]
  },
  {
   "cell_type": "markdown",
   "metadata": {},
   "source": [
    "<h2>Setup Cont.</h2>"
   ]
  },
  {
   "cell_type": "markdown",
   "metadata": {},
   "source": [
    "<li><b>dfTeam.set_index</b> is used to change the current index of the dataframe from 0,1,2 etc. to each teammate's name</li>\n",
    "<li><b>dfTeam.season.astype(int)</b> changes the column 'season' from type string to int</li>"
   ]
  },
  {
   "cell_type": "code",
   "execution_count": 27,
   "metadata": {},
   "outputs": [],
   "source": [
    "dfTeam = dfTeam.set_index(['teammate'])"
   ]
  },
  {
   "cell_type": "code",
   "execution_count": 28,
   "metadata": {},
   "outputs": [],
   "source": [
    "dfTeam['season'] = dfTeam.season.astype(int)"
   ]
  },
  {
   "cell_type": "markdown",
   "metadata": {},
   "source": [
    "<h2>Creating groups within a dataframe</h2>"
   ]
  },
  {
   "cell_type": "markdown",
   "metadata": {},
   "source": [
    "To tackle grouping this dataset, there are two different \"groupings\" that need to be created:\n",
    "<li>Group 1: Split up each player into two main groups of either being LeBron or Jordan's teammate.</li>\n",
    "<li>Group 2: Each Group 1 should then be broken up into 14 smaller groups that each represent a season.</li>\n",
    "<li>In total there should be 28 groups. 14 for LeBron and 14 for Jordan.</li>"
   ]
  },
  {
   "cell_type": "markdown",
   "metadata": {},
   "source": [
    "<h2>Grouping process for LeBron</h2>"
   ]
  },
  {
   "cell_type": "code",
   "execution_count": 29,
   "metadata": {},
   "outputs": [],
   "source": [
    "group_l = dfTeam.groupby(['m_or_l']).get_group('LeBron')"
   ]
  },
  {
   "cell_type": "code",
   "execution_count": 30,
   "metadata": {},
   "outputs": [],
   "source": [
    "group_l_season = group_l.groupby('season')"
   ]
  },
  {
   "cell_type": "code",
   "execution_count": 31,
   "metadata": {},
   "outputs": [
    {
     "data": {
      "text/html": [
       "<div>\n",
       "<style scoped>\n",
       "    .dataframe tbody tr th:only-of-type {\n",
       "        vertical-align: middle;\n",
       "    }\n",
       "\n",
       "    .dataframe tbody tr th {\n",
       "        vertical-align: top;\n",
       "    }\n",
       "\n",
       "    .dataframe thead th {\n",
       "        text-align: right;\n",
       "    }\n",
       "</style>\n",
       "<table border=\"1\" class=\"dataframe\">\n",
       "  <thead>\n",
       "    <tr style=\"text-align: right;\">\n",
       "      <th></th>\n",
       "      <th>games_played_per_season</th>\n",
       "      <th>rpg_season</th>\n",
       "      <th>apg_season</th>\n",
       "      <th>spg_season</th>\n",
       "      <th>bpg_season</th>\n",
       "      <th>turnovers_season</th>\n",
       "      <th>ppg_season</th>\n",
       "      <th>3pt_attempts_per_game</th>\n",
       "      <th>3pt_percentage_season</th>\n",
       "      <th>opponent_ppg</th>\n",
       "      <th>team_ppg</th>\n",
       "    </tr>\n",
       "    <tr>\n",
       "      <th>season</th>\n",
       "      <th></th>\n",
       "      <th></th>\n",
       "      <th></th>\n",
       "      <th></th>\n",
       "      <th></th>\n",
       "      <th></th>\n",
       "      <th></th>\n",
       "      <th></th>\n",
       "      <th></th>\n",
       "      <th></th>\n",
       "      <th></th>\n",
       "    </tr>\n",
       "  </thead>\n",
       "  <tbody>\n",
       "    <tr>\n",
       "      <th>1</th>\n",
       "      <td>0.0</td>\n",
       "      <td>29.0</td>\n",
       "      <td>14.4</td>\n",
       "      <td>3.7</td>\n",
       "      <td>4.3</td>\n",
       "      <td>3.7</td>\n",
       "      <td>52.1</td>\n",
       "      <td>0.0</td>\n",
       "      <td>1.410</td>\n",
       "      <td>477.5</td>\n",
       "      <td>464.5</td>\n",
       "    </tr>\n",
       "    <tr>\n",
       "      <th>2</th>\n",
       "      <td>0.0</td>\n",
       "      <td>26.6</td>\n",
       "      <td>12.4</td>\n",
       "      <td>3.9</td>\n",
       "      <td>3.9</td>\n",
       "      <td>4.7</td>\n",
       "      <td>53.0</td>\n",
       "      <td>0.0</td>\n",
       "      <td>1.099</td>\n",
       "      <td>478.5</td>\n",
       "      <td>482.5</td>\n",
       "    </tr>\n",
       "    <tr>\n",
       "      <th>3</th>\n",
       "      <td>0.0</td>\n",
       "      <td>28.6</td>\n",
       "      <td>5.1</td>\n",
       "      <td>3.0</td>\n",
       "      <td>3.2</td>\n",
       "      <td>3.7</td>\n",
       "      <td>46.9</td>\n",
       "      <td>0.0</td>\n",
       "      <td>1.034</td>\n",
       "      <td>477.0</td>\n",
       "      <td>488.0</td>\n",
       "    </tr>\n",
       "    <tr>\n",
       "      <th>4</th>\n",
       "      <td>0.0</td>\n",
       "      <td>30.7</td>\n",
       "      <td>7.9</td>\n",
       "      <td>4.2</td>\n",
       "      <td>3.2</td>\n",
       "      <td>5.2</td>\n",
       "      <td>51.7</td>\n",
       "      <td>0.0</td>\n",
       "      <td>0.851</td>\n",
       "      <td>464.5</td>\n",
       "      <td>484.0</td>\n",
       "    </tr>\n",
       "    <tr>\n",
       "      <th>5</th>\n",
       "      <td>0.0</td>\n",
       "      <td>29.3</td>\n",
       "      <td>7.9</td>\n",
       "      <td>3.1</td>\n",
       "      <td>2.9</td>\n",
       "      <td>4.8</td>\n",
       "      <td>49.0</td>\n",
       "      <td>0.0</td>\n",
       "      <td>0.857</td>\n",
       "      <td>483.5</td>\n",
       "      <td>482.0</td>\n",
       "    </tr>\n",
       "  </tbody>\n",
       "</table>\n",
       "</div>"
      ],
      "text/plain": [
       "        games_played_per_season  rpg_season  apg_season  spg_season  \\\n",
       "season                                                                \n",
       "1                           0.0        29.0        14.4         3.7   \n",
       "2                           0.0        26.6        12.4         3.9   \n",
       "3                           0.0        28.6         5.1         3.0   \n",
       "4                           0.0        30.7         7.9         4.2   \n",
       "5                           0.0        29.3         7.9         3.1   \n",
       "\n",
       "        bpg_season  turnovers_season  ppg_season  3pt_attempts_per_game  \\\n",
       "season                                                                    \n",
       "1              4.3               3.7        52.1                    0.0   \n",
       "2              3.9               4.7        53.0                    0.0   \n",
       "3              3.2               3.7        46.9                    0.0   \n",
       "4              3.2               5.2        51.7                    0.0   \n",
       "5              2.9               4.8        49.0                    0.0   \n",
       "\n",
       "        3pt_percentage_season  opponent_ppg  team_ppg  \n",
       "season                                                 \n",
       "1                       1.410         477.5     464.5  \n",
       "2                       1.099         478.5     482.5  \n",
       "3                       1.034         477.0     488.0  \n",
       "4                       0.851         464.5     484.0  \n",
       "5                       0.857         483.5     482.0  "
      ]
     },
     "execution_count": 31,
     "metadata": {},
     "output_type": "execute_result"
    }
   ],
   "source": [
    "group_l_season.sum().head()"
   ]
  },
  {
   "cell_type": "markdown",
   "metadata": {},
   "source": [
    "<h2>Repeat grouping process for Jordan</h2>"
   ]
  },
  {
   "cell_type": "code",
   "execution_count": 32,
   "metadata": {},
   "outputs": [],
   "source": [
    "group_m = dfTeam.groupby(['m_or_l']).get_group('Jordan')"
   ]
  },
  {
   "cell_type": "code",
   "execution_count": 33,
   "metadata": {},
   "outputs": [],
   "source": [
    "group_m_season = group_m.groupby('season')"
   ]
  },
  {
   "cell_type": "code",
   "execution_count": 34,
   "metadata": {},
   "outputs": [
    {
     "data": {
      "text/html": [
       "<div>\n",
       "<style scoped>\n",
       "    .dataframe tbody tr th:only-of-type {\n",
       "        vertical-align: middle;\n",
       "    }\n",
       "\n",
       "    .dataframe tbody tr th {\n",
       "        vertical-align: top;\n",
       "    }\n",
       "\n",
       "    .dataframe thead th {\n",
       "        text-align: right;\n",
       "    }\n",
       "</style>\n",
       "<table border=\"1\" class=\"dataframe\">\n",
       "  <thead>\n",
       "    <tr style=\"text-align: right;\">\n",
       "      <th></th>\n",
       "      <th>games_played_per_season</th>\n",
       "      <th>rpg_season</th>\n",
       "      <th>apg_season</th>\n",
       "      <th>spg_season</th>\n",
       "      <th>bpg_season</th>\n",
       "      <th>turnovers_season</th>\n",
       "      <th>ppg_season</th>\n",
       "      <th>3pt_attempts_per_game</th>\n",
       "      <th>3pt_percentage_season</th>\n",
       "      <th>opponent_ppg</th>\n",
       "      <th>team_ppg</th>\n",
       "    </tr>\n",
       "    <tr>\n",
       "      <th>season</th>\n",
       "      <th></th>\n",
       "      <th></th>\n",
       "      <th></th>\n",
       "      <th></th>\n",
       "      <th></th>\n",
       "      <th></th>\n",
       "      <th></th>\n",
       "      <th></th>\n",
       "      <th></th>\n",
       "      <th></th>\n",
       "      <th></th>\n",
       "    </tr>\n",
       "  </thead>\n",
       "  <tbody>\n",
       "    <tr>\n",
       "      <th>1</th>\n",
       "      <td>0.0</td>\n",
       "      <td>25.6</td>\n",
       "      <td>8.1</td>\n",
       "      <td>3.2</td>\n",
       "      <td>2.5</td>\n",
       "      <td>8.7</td>\n",
       "      <td>63.5</td>\n",
       "      <td>0.0</td>\n",
       "      <td>0.233</td>\n",
       "      <td>0.0</td>\n",
       "      <td>0.0</td>\n",
       "    </tr>\n",
       "    <tr>\n",
       "      <th>2</th>\n",
       "      <td>0.0</td>\n",
       "      <td>22.8</td>\n",
       "      <td>15.0</td>\n",
       "      <td>4.2</td>\n",
       "      <td>1.6</td>\n",
       "      <td>9.9</td>\n",
       "      <td>66.0</td>\n",
       "      <td>0.0</td>\n",
       "      <td>0.796</td>\n",
       "      <td>0.0</td>\n",
       "      <td>0.0</td>\n",
       "    </tr>\n",
       "    <tr>\n",
       "      <th>3</th>\n",
       "      <td>0.0</td>\n",
       "      <td>31.0</td>\n",
       "      <td>15.8</td>\n",
       "      <td>3.7</td>\n",
       "      <td>2.8</td>\n",
       "      <td>9.2</td>\n",
       "      <td>52.3</td>\n",
       "      <td>0.0</td>\n",
       "      <td>0.938</td>\n",
       "      <td>0.0</td>\n",
       "      <td>0.0</td>\n",
       "    </tr>\n",
       "    <tr>\n",
       "      <th>4</th>\n",
       "      <td>0.0</td>\n",
       "      <td>30.2</td>\n",
       "      <td>11.8</td>\n",
       "      <td>3.7</td>\n",
       "      <td>2.9</td>\n",
       "      <td>7.9</td>\n",
       "      <td>46.0</td>\n",
       "      <td>0.0</td>\n",
       "      <td>0.882</td>\n",
       "      <td>0.0</td>\n",
       "      <td>0.0</td>\n",
       "    </tr>\n",
       "    <tr>\n",
       "      <th>5</th>\n",
       "      <td>0.0</td>\n",
       "      <td>24.3</td>\n",
       "      <td>13.5</td>\n",
       "      <td>4.8</td>\n",
       "      <td>2.3</td>\n",
       "      <td>8.7</td>\n",
       "      <td>56.1</td>\n",
       "      <td>0.0</td>\n",
       "      <td>1.027</td>\n",
       "      <td>0.0</td>\n",
       "      <td>0.0</td>\n",
       "    </tr>\n",
       "  </tbody>\n",
       "</table>\n",
       "</div>"
      ],
      "text/plain": [
       "        games_played_per_season  rpg_season  apg_season  spg_season  \\\n",
       "season                                                                \n",
       "1                           0.0        25.6         8.1         3.2   \n",
       "2                           0.0        22.8        15.0         4.2   \n",
       "3                           0.0        31.0        15.8         3.7   \n",
       "4                           0.0        30.2        11.8         3.7   \n",
       "5                           0.0        24.3        13.5         4.8   \n",
       "\n",
       "        bpg_season  turnovers_season  ppg_season  3pt_attempts_per_game  \\\n",
       "season                                                                    \n",
       "1              2.5               8.7        63.5                    0.0   \n",
       "2              1.6               9.9        66.0                    0.0   \n",
       "3              2.8               9.2        52.3                    0.0   \n",
       "4              2.9               7.9        46.0                    0.0   \n",
       "5              2.3               8.7        56.1                    0.0   \n",
       "\n",
       "        3pt_percentage_season  opponent_ppg  team_ppg  \n",
       "season                                                 \n",
       "1                       0.233           0.0       0.0  \n",
       "2                       0.796           0.0       0.0  \n",
       "3                       0.938           0.0       0.0  \n",
       "4                       0.882           0.0       0.0  \n",
       "5                       1.027           0.0       0.0  "
      ]
     },
     "execution_count": 34,
     "metadata": {},
     "output_type": "execute_result"
    }
   ],
   "source": [
    "group_m_season.sum().head()"
   ]
  },
  {
   "cell_type": "markdown",
   "metadata": {},
   "source": [
    "<h2>Create graphs for ppg based on season groups</h2>\n",
    "<p>The code below does the following:\n",
    "    <li><b>plot_area</b> is used to create the area where the graph will be plotted</li>\n",
    "    <li><b>plot_area.scatter</b> is used to plot each set of data for LeBron and Jordan</li>\n",
    "    <li>The rest of the code in this block is used to format things like the legen, title, font size, etc.</li>\n",
    "    </p>"
   ]
  },
  {
   "cell_type": "code",
   "execution_count": 17,
   "metadata": {},
   "outputs": [
    {
     "data": {
      "text/plain": [
       "([<matplotlib.axis.XTick at 0x1a13f72908>,\n",
       "  <matplotlib.axis.XTick at 0x1a13f72240>,\n",
       "  <matplotlib.axis.XTick at 0x1a13f72128>,\n",
       "  <matplotlib.axis.XTick at 0x1a1f4aac18>,\n",
       "  <matplotlib.axis.XTick at 0x1a1f4d0160>,\n",
       "  <matplotlib.axis.XTick at 0x1a1f4d0630>,\n",
       "  <matplotlib.axis.XTick at 0x1a1f4d0b70>,\n",
       "  <matplotlib.axis.XTick at 0x1a1f4d0080>,\n",
       "  <matplotlib.axis.XTick at 0x1a1f4d5160>,\n",
       "  <matplotlib.axis.XTick at 0x1a1f4d5630>,\n",
       "  <matplotlib.axis.XTick at 0x1a1f4d5b38>,\n",
       "  <matplotlib.axis.XTick at 0x1a1f4de0f0>,\n",
       "  <matplotlib.axis.XTick at 0x1a1f4de588>,\n",
       "  <matplotlib.axis.XTick at 0x1a1f4dea90>,\n",
       "  <matplotlib.axis.XTick at 0x1a1f4dee80>],\n",
       " <a list of 15 Text xticklabel objects>)"
      ]
     },
     "execution_count": 17,
     "metadata": {},
     "output_type": "execute_result"
    },
    {
     "data": {
      "image/png": "[encoded data removed]",
      "text/plain": [
       "<Figure size 432x288 with 1 Axes>"
      ]
     },
     "metadata": {},
     "output_type": "display_data"
    }
   ],
   "source": [
    "fig = plt.figure()\n",
    "plot_area = fig.add_subplot(111)\n",
    "\n",
    "plot_area.scatter(range(1,15), group_m_season.ppg_season.sum(), marker=\"s\", label='Jordan', color='red')\n",
    "plot_area.scatter(range(1,15), group_l_season.ppg_season.sum(), marker=\"o\", label='LeBron', color='#00008b')\n",
    "\n",
    "box = plot_area.get_position()\n",
    "plot_area.set_position([box.x0, box.y0, box.width * 0.8, box.height])\n",
    "plot_area.legend(loc='center left', bbox_to_anchor=(1, 0.5))\n",
    "\n",
    "plot_area.set_title('Sum of Teammates Average ppg by Season', **csfont, **titlefont)\n",
    "plot_area.set_xlabel('Season', **csfont)\n",
    "plot_area.set_ylabel('Teammate Total ppg', **csfont)\n",
    "plt.xticks(np.arange(0, 15, 1.0))"
   ]
  },
  {
   "cell_type": "markdown",
   "metadata": {},
   "source": [
    "<h2>Create graphs for rpg based on season groups</h2>\n",
    "<p>Repeat process to create graph but change data to reflect rpg</p>"
   ]
  },
  {
   "cell_type": "code",
   "execution_count": 35,
   "metadata": {},
   "outputs": [
    {
     "data": {
      "text/plain": [
       "([<matplotlib.axis.XTick at 0x1a1fa058d0>,\n",
       "  <matplotlib.axis.XTick at 0x1a1fa05208>,\n",
       "  <matplotlib.axis.XTick at 0x1a1fa0acc0>,\n",
       "  <matplotlib.axis.XTick at 0x1a1fa349b0>,\n",
       "  <matplotlib.axis.XTick at 0x1a1fa34e80>,\n",
       "  <matplotlib.axis.XTick at 0x1a1fa3d3c8>,\n",
       "  <matplotlib.axis.XTick at 0x1a1fa3d8d0>,\n",
       "  <matplotlib.axis.XTick at 0x1a1fa3ddd8>,\n",
       "  <matplotlib.axis.XTick at 0x1a1fa44320>,\n",
       "  <matplotlib.axis.XTick at 0x1a1fa44828>,\n",
       "  <matplotlib.axis.XTick at 0x1a1fa44d30>,\n",
       "  <matplotlib.axis.XTick at 0x1a1fa44e10>,\n",
       "  <matplotlib.axis.XTick at 0x1a1fa3d898>,\n",
       "  <matplotlib.axis.XTick at 0x1a1fa4b278>,\n",
       "  <matplotlib.axis.XTick at 0x1a1fa4b710>],\n",
       " <a list of 15 Text xticklabel objects>)"
      ]
     },
     "execution_count": 35,
     "metadata": {},
     "output_type": "execute_result"
    },
    {
     "data": {
      "image/png": "[encoded data removed]",
      "text/plain": [
       "<Figure size 432x288 with 1 Axes>"
      ]
     },
     "metadata": {},
     "output_type": "display_data"
    }
   ],
   "source": [
    "fig = plt.figure()\n",
    "plot_area = fig.add_subplot(111)\n",
    "\n",
    "plot_area.scatter(range(1,15), group_m_season.rpg_season.sum(), marker=\"s\", label='Jordan', color='red')\n",
    "plot_area.scatter(range(1,15), group_l_season.rpg_season.sum(), marker=\"o\", label='LeBron', color='#00008b')\n",
    "\n",
    "box = plot_area.get_position()\n",
    "plot_area.set_position([box.x0, box.y0, box.width * 0.8, box.height])\n",
    "plot_area.legend(loc='center left', bbox_to_anchor=(1, 0.5))\n",
    "\n",
    "plot_area.set_title('Sum of Teammates Average rpg by Season', **csfont, **titlefont)\n",
    "plot_area.set_xlabel('Season', **csfont)\n",
    "plot_area.set_ylabel('Teammate Total rpg', **csfont)\n",
    "plt.xticks(np.arange(0, 15, 1.0))"
   ]
  },
  {
   "cell_type": "markdown",
   "metadata": {},
   "source": [
    "<h2>Create graphs for apg based on season groups</h2>\n",
    "<p>Repeat process to create graph but change data to reflect apg</p>"
   ]
  },
  {
   "cell_type": "code",
   "execution_count": 19,
   "metadata": {},
   "outputs": [
    {
     "data": {
      "text/plain": [
       "([<matplotlib.axis.XTick at 0x1a1f631358>,\n",
       "  <matplotlib.axis.XTick at 0x1a1f62fc88>,\n",
       "  <matplotlib.axis.XTick at 0x1a1f62fa20>,\n",
       "  <matplotlib.axis.XTick at 0x1a1f6c15c0>,\n",
       "  <matplotlib.axis.XTick at 0x1a1f6c1a90>,\n",
       "  <matplotlib.axis.XTick at 0x1a1f6c1e80>,\n",
       "  <matplotlib.axis.XTick at 0x1a1f6c1f60>,\n",
       "  <matplotlib.axis.XTick at 0x1a1f6c9518>,\n",
       "  <matplotlib.axis.XTick at 0x1a1f6c9a20>,\n",
       "  <matplotlib.axis.XTick at 0x1a1f6c9f28>,\n",
       "  <matplotlib.axis.XTick at 0x1a1f6d1470>,\n",
       "  <matplotlib.axis.XTick at 0x1a1f6d1978>,\n",
       "  <matplotlib.axis.XTick at 0x1a1f6d1e80>,\n",
       "  <matplotlib.axis.XTick at 0x1a1f6d93c8>,\n",
       "  <matplotlib.axis.XTick at 0x1a1f6d98d0>],\n",
       " <a list of 15 Text xticklabel objects>)"
      ]
     },
     "execution_count": 19,
     "metadata": {},
     "output_type": "execute_result"
    },
    {
     "data": {
      "image/png": "[encoded data removed]",
      "text/plain": [
       "<Figure size 432x288 with 1 Axes>"
      ]
     },
     "metadata": {},
     "output_type": "display_data"
    }
   ],
   "source": [
    "fig = plt.figure()\n",
    "plot_area = fig.add_subplot(111)\n",
    "\n",
    "plot_area.scatter(range(1,15), group_m_season.apg_season.sum(), marker=\"s\", label='Jordan', color='red')\n",
    "plot_area.scatter(range(1,15), group_l_season.apg_season.sum(), marker=\"o\", label='LeBron', color='#00008b')\n",
    "\n",
    "box = plot_area.get_position()\n",
    "plot_area.set_position([box.x0, box.y0, box.width * 0.8, box.height])\n",
    "plot_area.legend(loc='center left', bbox_to_anchor=(1, 0.5))\n",
    "\n",
    "plot_area.set_title('Sum of Teammates Average apg by Season', **csfont, **titlefont)\n",
    "plot_area.set_xlabel('Season', **csfont)\n",
    "plot_area.set_ylabel('Teammate Total apg', **csfont)\n",
    "plt.xticks(np.arange(0, 15, 1.0))\n"
   ]
  },
  {
   "cell_type": "markdown",
   "metadata": {},
   "source": [
    "<h2>Conclusion</h2>\n",
    "\n",
    "Thanks for checking the tutorial out and I hope it was a good intro for anyone new learning python related data science tools.\n",
    "\n",
    "For more cool projects check out <b>www.jamescarnes.org</b>\n",
    "\n",
    "If you have any questions feel free to comment in the gitlab repo!\n",
    "\n"
   ]
  }
 ],
 "metadata": {
  "kernelspec": {
   "display_name": "Python 3",
   "language": "python",
   "name": "python3"
  },
  "language_info": {
   "codemirror_mode": {
    "name": "ipython",
    "version": 3
   },
   "file_extension": ".py",
   "mimetype": "text/x-python",
   "name": "python",
   "nbconvert_exporter": "python",
   "pygments_lexer": "ipython3",
   "version": "3.6.5"
  }
 },
 "nbformat": 4,
 "nbformat_minor": 2
}
